{
 "cells": [
  {
   "cell_type": "code",
   "execution_count": null,
   "id": "384d49a1",
   "metadata": {},
   "outputs": [],
   "source": [
    "#datascience bootcamp assignment 1 Shihui Feng sf4011"
   ]
  },
  {
   "cell_type": "code",
   "execution_count": 1,
   "id": "798a4745",
   "metadata": {},
   "outputs": [],
   "source": [
    "def count_vowels(word):\n",
    "    num = 0\n",
    "    for i in list(word):\n",
    "        if i in list('aeiouAEIOU'):\n",
    "            num =num+1\n",
    "    return num"
   ]
  },
  {
   "cell_type": "code",
   "execution_count": 2,
   "id": "42b32c7e",
   "metadata": {},
   "outputs": [
    {
     "name": "stdout",
     "output_type": "stream",
     "text": [
      "2\n",
      "1\n",
      "2\n"
     ]
    }
   ],
   "source": [
    "a=count_vowels(\"good\")\n",
    "print(a)\n",
    "b=count_vowels(\"bad\")\n",
    "print(b)\n",
    "c=count_vowels(\"love\")\n",
    "print(c)"
   ]
  },
  {
   "cell_type": "code",
   "execution_count": 4,
   "id": "8d027a9a",
   "metadata": {},
   "outputs": [
    {
     "name": "stdout",
     "output_type": "stream",
     "text": [
      "['tiger', 'elephant', 'monkey', 'zebra', 'panther']\n",
      "['TIGER', 'ELEPHANT', 'MONKEY', 'ZEBRA', 'PANTHER']\n"
     ]
    }
   ],
   "source": [
    "animals=['tiger', 'elephant', 'monkey', 'zebra', 'panther']\n",
    "srt_animals=str(animals)\n",
    "print(srt_animals)\n",
    "print(srt_animals.upper())"
   ]
  },
  {
   "cell_type": "code",
   "execution_count": 5,
   "id": "43a104ce",
   "metadata": {},
   "outputs": [
    {
     "name": "stdout",
     "output_type": "stream",
     "text": [
      "1 is odd\n",
      "2 is even\n",
      "3 is odd\n",
      "4 is even\n",
      "5 is odd\n",
      "6 is even\n",
      "7 is odd\n",
      "8 is even\n",
      "9 is odd\n",
      "10 is even\n",
      "11 is odd\n",
      "12 is even\n",
      "13 is odd\n",
      "14 is even\n",
      "15 is odd\n",
      "16 is even\n",
      "17 is odd\n",
      "18 is even\n",
      "19 is odd\n",
      "20 is even\n"
     ]
    }
   ],
   "source": [
    "for i in range(1,21):\n",
    "    if i%2==0:\n",
    "        print(i,\"is even\")\n",
    "    else: \n",
    "        print(i,\"is odd\")"
   ]
  },
  {
   "cell_type": "code",
   "execution_count": 6,
   "id": "fa300fa9",
   "metadata": {},
   "outputs": [
    {
     "name": "stdout",
     "output_type": "stream",
     "text": [
      "7\n"
     ]
    }
   ],
   "source": [
    "def sum_of_integers(a,b):\n",
    "    c=a+b\n",
    "    return c\n",
    "\n",
    "z=sum_of_integers(a=3,b=4)\n",
    "print(z)"
   ]
  },
  {
   "cell_type": "code",
   "execution_count": null,
   "id": "d07b57ce",
   "metadata": {},
   "outputs": [],
   "source": []
  }
 ],
 "metadata": {
  "kernelspec": {
   "display_name": "Python 3 (ipykernel)",
   "language": "python",
   "name": "python3"
  },
  "language_info": {
   "codemirror_mode": {
    "name": "ipython",
    "version": 3
   },
   "file_extension": ".py",
   "mimetype": "text/x-python",
   "name": "python",
   "nbconvert_exporter": "python",
   "pygments_lexer": "ipython3",
   "version": "3.9.12"
  }
 },
 "nbformat": 4,
 "nbformat_minor": 5
}
